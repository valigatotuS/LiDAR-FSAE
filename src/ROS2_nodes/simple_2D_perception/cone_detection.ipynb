{
 "cells": [
  {
   "attachments": {},
   "cell_type": "markdown",
   "metadata": {},
   "source": [
    "# Clustering techniques and circle fitting to detect cones"
   ]
  },
  {
   "cell_type": "code",
   "execution_count": 2,
   "metadata": {},
   "outputs": [],
   "source": [
    "# import libraries\n",
    "import numpy as np\n",
    "import pandas as pd\n",
    "import matplotlib.pyplot as plt\n",
    "from numpy.linalg import inv\n",
    "from scipy.optimize import least_squares\n",
    "from sklearn.cluster import DBSCAN\n",
    "from sklearn.datasets import make_moons\n",
    "import matplotlib.pyplot as plt"
   ]
  },
  {
   "attachments": {},
   "cell_type": "markdown",
   "metadata": {},
   "source": [
    "## Sample data & robot characteristics"
   ]
  },
  {
   "cell_type": "code",
   "execution_count": 3,
   "metadata": {},
   "outputs": [],
   "source": [
    "# --- Sample data (Gazebo simulation) ---\n",
    "\n",
    "# list of angles\n",
    "angles = np.arange(180)\n",
    "# ranges at each angle\n",
    "ranges = np.array([0.0,0.0,0.0,0.0,0.0,0.0,0.0,0.0,0.0,0.0,0.0,0.0,0.0,0.0,0.0,0.0,0.0,0.0,0.0,0.0,0.0,0.0,0.0,0.0,0.0,0.0,0.0,0.0,0.0,0.0,0.2824296,0.26145798,0.2573267,0.26639497,0.24198154,0.2563263,0.2492486,0.2490494,0.23836158,0.24237356,0.23530357,0.23706202,0.25634965,0.24145673,0.24730304,0.22856069,0.2428339,0.27549574,0.27851492,0.2812332,0.0,0.0,0.0,0.0,0.0,0.0,0.0,0.0,0.0,0.0,0.0,0.0,0.0,0.0,0.6338318,0.6245537,0.62674254,0.60722196,0.61645097,0.61293894,0.6154953,0.6283516,1.0512443,1.0353955,1.0124562,1.015074,1.0281942,0.0,0.0,0.0,0.0,0.0,0.0,0.0,0.0,0.0,0.0,0.0,0.0,0.0,0.0,0.0,0.0,0.0,0.0,0.0,0.0,1.056657,1.0319761,1.0562071,1.0670962,1.0690211,0.0,0.6703088,0.6614847,0.62876225,0.6578732,0.6321875,0.63878906,0.6601635,0.69316703,0.0,0.0,0.0,0.0,0.0,0.0,0.0,0.0,0.0,0.0,0.0,0.0,0.0,0.30538955,0.28617328,0.26936582,0.29005092,0.28203058,0.27593866,0.2672876,0.2766986,0.27477232,0.27204654,0.25706476,0.26719218,0.2835501,0.29585886,0.2891943,0.28550506,0.29798606,0.31336707,0.0,0.0,0.0,0.0,0.0,0.0,0.0,0.0,0.0,0.0,0.0,0.0,0.0,0.0,0.0,0.0,0.0,0.0,0.0,0.0,0.0,0.0,0.0,0.0,0.0,0.0,0.0,0.0,0.0,0.0,0.0,0.0,0.0,0.0,0.0,0.0,0.0,0.0])\n",
    "# cartesian coordinates\n",
    "scan = [[0.0, 0.0], [0.0, 0.0], [0.0, 0.0], [0.0, 0.0], [0.0, 0.0], [0.0, 0.0], [0.0, 0.0], [0.0, 0.0], [0.0, 0.0], [0.0, 0.0], [0.0, 0.0], [0.0, 0.0], [0.0, 0.0], [0.0, 0.0], [0.0, 0.0], [0.0, 0.0], [0.0, 0.0], [0.0, 0.0], [0.0, 0.0], [0.0, 0.0], [0.0, 0.0], [0.0, 0.0], [0.0, 0.0], [0.0, 0.0], [0.0, 0.0], [0.0, 0.0], [0.0, 0.0], [0.0, 0.0], [0.0, 0.0], [0.0, 0.0], [0.0, 0.0], [0.0, 0.0], [0.0, 0.0], [0.0, 0.0], [0.0, 0.0], [0.0, 0.0], [0.0, 0.0], [0.0, 0.0], [0.0, 0.0], [0.0, 0.0], [0.0, 0.0], [0.0, 0.0], [0.0, 0.0], [0.0, 0.0], [0.0, 0.0], [0.0, 0.0], [0.0, 0.0], [0.0, 0.0], [0.0, 0.0], [0.0, 0.0], [0.0, 0.0], [0.0, 0.0], [0.0, 0.0], [0.0, 0.0], [0.0, 0.0], [0.0, 0.0], [0.0, 0.0], [0.26475261566940417, 0.4076832769475833], [0.2492846692155993, 0.39893886370630016], [0.23522982914176874, 0.3914881782774637], [0.231110692024231, 0.4002954607583713], [0.21966359591233572, 0.3962836171204983], [0.2092305707249133, 0.39350547172186184], [0.20564606471986455, 0.40360312703499823], [0.20000542998465776, 0.4100719014342627], [0.19803622419613245, 0.42469005330018855], [0.18035154712891968, 0.4050762070820729], [0.17617148528865026, 0.41503401040795124], [0.17943245064414107, 0.444110899665582], [0.0, 0.0], [0.0, 0.0], [0.3078515717607658, 0.8940658834172148], [0.28543014893583174, 0.87846367039329], [0.2656562247287768, 0.8689223582707308], [0.2463025387154562, 0.8589590310709667], [0.2318189832808474, 0.8651602237630827], [0.2209191291019867, 0.8860582308555921], [0.3235144423100644, 1.4012950018485377], [0.29663777030895144, 1.395570985804046], [0.2710548307989433, 1.394456218334856], [0.2475302875721014, 1.4038140197124016], [0.0, 0.0], [0.0, 0.0], [0.0, 0.0], [0.0, 0.0], [0.0, 0.0], [0.0, 0.0], [0.0, 0.0], [0.0, 0.0], [0.0, 0.0], [0.0, 0.0], [-0.0, 0.0], [-0.0, 0.0], [-0.0, 0.0], [-0.0, 0.0], [-0.12783691391267138, 1.461182612245432], [-0.15253341890815308, 1.4512585389407735], [-0.1761175806212311, 1.4343625886360525], [-0.20554277593658746, 1.462512844553997], [-0.15088578912611786, 0.9526553796379661], [-0.16202508815910885, 0.9188899367987109], [-0.1813430030344403, 0.9329288745289459], [-0.19513668136049658, 0.9180459065922952], [-0.21232679261862922, 0.9196883796917275], [-0.0, 0.0], [-0.0, 0.0], [-0.0, 0.0], [-0.0, 0.0], [-0.0, 0.0], [-0.16470934261874542, 0.4783506644881945], [-0.1703502587380393, 0.46803348928101546], [-0.17877689905767694, 0.4657297447550218], [-0.18677259784157024, 0.46227840149607935], [-0.19002983687734906, 0.44768224078460456], [-0.19577833335615205, 0.4397253362515959], [-0.20621935052865603, 0.44223882435168954], [-0.21217104599471853, 0.43501511067486887], [-0.22599672446271898, 0.44354354564028525], [-0.23522234433245348, 0.4423888882268529], [-0.2502497997402609, 0.45146258947854107], [-0.0, 0.0], [-0.0, 0.0], [-0.0, 0.0], [-0.0, 0.0], [-0.0, 0.0], [-0.0, 0.0], [-0.0, 0.0], [-0.0, 0.0], [-0.0, 0.0], [-0.0, 0.0], [-0.0, 0.0], [-0.0, 0.0], [-0.0, 0.0], [-0.0, 0.0], [-0.0, 0.0], [-0.0, 0.0], [-0.0, 0.0], [-0.0, 0.0], [-0.0, 0.0], [-0.0, 0.0], [-0.0, 0.0], [-0.0, 0.0], [-0.0, 0.0], [-0.0, 0.0], [-0.0, 0.0], [-0.0, 0.0], [-0.0, 0.0], [-0.0, 0.0], [-0.0, 0.0], [-0.0, 0.0], [-0.0, 0.0], [-0.0, 0.0], [-0.0, 0.0], [-0.0, 0.0], [-0.0, 0.0], [-0.0, 0.0], [-0.0, 0.0], [-0.0, 0.0], [-0.0, 0.0], [-0.0, 0.0], [-0.0, 0.0], [-0.0, 0.0], [-0.0, 0.0], [-0.0, 0.0], [-0.0, 0.0], [-0.0, 0.0], [-0.0, 0.0], [-0.0, 0.0], [-0.0, 0.0], [-0.0, 0.0], [-0.0, 0.0], [-0.0, 0.0], [-0.0, 0.0], [-0.0, 0.0], [-0.0, 0.0], [-0.0, 0.0], [-0.0, 0.0], [-0.0, 0.0], [-0.0, 0.0], [-0.0, 0.0]]\n",
    "(x,y) = tuple([list(tup) for tup in zip(*scan)])\n",
    "\n",
    "# --- Turtlebot3 specifications ---\n",
    "\n",
    "robot_length = 0.138 # m\n",
    "robot_width = 0.178 # m\n",
    "robot_height = 0.192 # m\n",
    "robot_max_speed = 0.22 # m/s\n",
    "robot_weight = 1 # kg\n",
    "robot_min_range = 0.12 # m\n",
    "robot_max_range = 3.5 # m\n",
    "# robot_max_angular_speed = 0.2 # rad/s\n",
    "\n",
    "# --- Utility functions ---\n",
    "\n",
    "def polar2cartesian(array):\n",
    "    angles = np.deg2rad(np.arange(0,180))\n",
    "    x = array * np.cos(angles)\n",
    "    y = array * np.sin(angles)\n",
    "\n",
    "    return (x,y) #(list(map(list, zip(x, y))))\n",
    "\n",
    "def cartesian2polar(array):\n",
    "    x, y = np.array(array).T\n",
    "    r = np.sqrt(x**2 + y**2)\n",
    "    theta = np.arctan2(y, x)\n",
    "    return list(zip(r, np.rad2deg(theta)))"
   ]
  },
  {
   "attachments": {},
   "cell_type": "markdown",
   "metadata": {},
   "source": [
    "## RANSAC"
   ]
  },
  {
   "cell_type": "code",
   "execution_count": 41,
   "metadata": {},
   "outputs": [
    {
     "data": {
      "image/png": "[encoded data removed]",
      "text/plain": [
       "<Figure size 432x288 with 1 Axes>"
      ]
     },
     "metadata": {
      "needs_background": "light"
     },
     "output_type": "display_data"
    }
   ],
   "source": [
    "def data_generator():\n",
    "\tx_data = []\n",
    "\ty_data = []\n",
    "\n",
    "\ta = 2\n",
    "\tb = 3\n",
    "\tr = 100\n",
    "\n",
    "\tfor i in np.arange(a - r, a + r, 1):\n",
    "\t\tx = i\n",
    "\t\ty = 0\n",
    "\t\ty1, y2 = circle_func(a, b, r, x)\n",
    "\t\tif np.random.randn() > 0:\n",
    "\t\t\ty += y1 + np.random.randn()*5\n",
    "\t\telse:\n",
    "\t\t\ty += y2 + np.random.randn()*5\n",
    "\t\tx_data.append(x)\n",
    "\t\ty_data.append(y)\n",
    "\n",
    "\treturn x_data, y_data\n",
    "\n",
    "def circle_func(a, b, r, x):\n",
    "\treturn (np.sqrt(r**2-(x-a)**2) + b, -np.sqrt(r**2-(x-a)**2) + b)\n",
    "\n",
    "class RANSAC:\n",
    "\tdef __init__(self, x_data, y_data, n):\n",
    "\t\tself.x_data = x_data\n",
    "\t\tself.y_data = y_data\n",
    "\t\tself.n = n\n",
    "\t\tself.d_min = 99999\n",
    "\t\tself.best_model = None\n",
    "\n",
    "\tdef random_sampling(self):\n",
    "\t\tsample = []\n",
    "\t\tsave_ran = []\n",
    "\t\tcount = 0\n",
    "\n",
    "\t\t# get three points from data\n",
    "\t\twhile True:\n",
    "\t\t\tran = np.random.randint(len(self.x_data))\n",
    "\n",
    "\t\t\tif ran not in save_ran:\n",
    "\t\t\t\tsample.append((self.x_data[ran], self.y_data[ran]))\n",
    "\t\t\t\tsave_ran.append(ran)\n",
    "\t\t\t\tcount += 1\n",
    "\n",
    "\t\t\t\tif count == 3:\n",
    "\t\t\t\t\tbreak\n",
    "\n",
    "\t\treturn sample\n",
    "\n",
    "\tdef make_model(self, sample):\n",
    "\t\t# calculate A, B, C value from three points by using matrix\n",
    "\t\n",
    "\t\tpt1 = sample[0]\n",
    "\t\tpt2 = sample[1]\n",
    "\t\tpt3 = sample[2]\n",
    "\n",
    "\t\tA = np.array([[pt2[0] - pt1[0], pt2[1] - pt1[1]], [pt3[0] - pt2[0], pt3[1] - pt2[1]]]) \n",
    "\t\tB = np.array([[pt2[0]**2 - pt1[0]**2 + pt2[1]**2 - pt1[1]**2], [pt3[0]**2 - pt2[0]**2 + pt3[1]**2 - pt2[1]**2]])\t\t\n",
    "\t\tinv_A = inv(A)\n",
    "\n",
    "\t\tc_x, c_y = np.dot(inv_A, B) / 2\n",
    "\t\tc_x, c_y = c_x[0], c_y[0]\n",
    "\t\tr = np.sqrt((c_x - pt1[0])**2 + (c_y - pt1[1])**2)\n",
    "\n",
    "\t\treturn c_x, c_y, r\n",
    "\n",
    "\tdef eval_model(self, model):\n",
    "\t\td = 0\n",
    "\t\tc_x, c_y, r = model\n",
    "\n",
    "\t\tfor i in range(len(self.x_data)):\n",
    "\t\t\tdis = np.sqrt((self.x_data[i]-c_x)**2 + (self.y_data[i]-c_y)**2)\n",
    "\n",
    "\t\t\tif dis >= r:\n",
    "\t\t\t\td += dis - r\n",
    "\t\t\telse:\n",
    "\t\t\t\td += r - dis\n",
    "\t\t\n",
    "\t\treturn d\n",
    "\n",
    "\tdef execute_ransac(self):\n",
    "\t\t# find best model\n",
    "\t\tfor i in range(self.n):\n",
    "\t\t\tmodel = self.make_model(self.random_sampling())\n",
    "\t\t\td_temp = self.eval_model(model)\n",
    "\t\t\t\n",
    "\t\t\tif self.d_min > d_temp:\n",
    "\t\t\t\tself.best_model = model\n",
    "\t\t\t\tself.d_min = d_temp\n",
    "\n",
    "\n",
    "if __name__ == '__main__':\n",
    "\t# making data\n",
    "\tx_data, y_data = (x, y) #data_generator()\n",
    "\n",
    "\t# making ransac class\n",
    "\t# n: how many times try sampling\n",
    "\transac = RANSAC(x_data, y_data, 50)\n",
    "\t\n",
    "\t# executing ransac algorithm\n",
    "\transac.execute_ransac()\n",
    "\t\n",
    "\t# getting best model from ransac\n",
    "\ta, b, r = ransac.best_model[0], ransac.best_model[1], ransac.best_model[2]\n",
    "\n",
    "\t# show result\n",
    "\tplt.scatter(x, y, c='blue', marker='o', label='data')\n",
    "\tcircle = plt.Circle((a, b), radius=r, color='r', fc='y', fill=False)\n",
    "\tplt.gca().add_patch(circle)\n",
    "\tplt.axis('scaled')\n",
    "\tplt.title(\"RANSAC\")\n",
    "\tplt.show()\n",
    "\t# plt.tight_layout()\n",
    "\t"
   ]
  },
  {
   "attachments": {},
   "cell_type": "markdown",
   "metadata": {},
   "source": [
    "Ransac is based on the principle of randomly selecting a subset of data points that are most likely to belong to the model <br> and then refining the model parameters from these points. <br> Ransac is more robust to outliers than the least squares method but is more computationally intensive."
   ]
  },
  {
   "attachments": {},
   "cell_type": "markdown",
   "metadata": {},
   "source": [
    "## Least Squares Method"
   ]
  },
  {
   "cell_type": "code",
   "execution_count": 42,
   "metadata": {},
   "outputs": [
    {
     "data": {
      "image/png": "[encoded data removed]",
      "text/plain": [
       "<Figure size 432x288 with 1 Axes>"
      ]
     },
     "metadata": {
      "needs_background": "light"
     },
     "output_type": "display_data"
    },
    {
     "name": "stdout",
     "output_type": "stream",
     "text": [
      "Circle center: (-0.001, 0.009)\n",
      "Circle radius: 1.999\n"
     ]
    }
   ],
   "source": [
    "# Defining the function to be minimized\n",
    "def residual(params, x, y):\n",
    "    xc, yc, r = params\n",
    "    return (x - xc)**2 + (y - yc)**2 - r**2\n",
    "\n",
    "# Generating some noisy data\n",
    "theta = np.linspace(0, 2*np.pi, 100)\n",
    "xc, yc, r = 1.5, 1.5, 1.0\n",
    "# x = xc + r * np.cos(theta) + 0.1 * np.random.randn(len(theta))\n",
    "# y = yc + r * np.sin(theta) + 0.1 * np.random.randn(len(theta))\n",
    "\n",
    "# Using the least squares method to fit a circle to the data\n",
    "initial_guess = [1.0, 1.0, 1.0]  # initial guess for the circle parameters\n",
    "params = least_squares(residual, initial_guess, args=(x, y)).x\n",
    "\n",
    "# Extracting the circle parameters from the optimized solution\n",
    "xc, yc, r = params\n",
    "\n",
    "# Plotting the points and circle\n",
    "plt.scatter(x_data, y_data, c='blue', marker='o', label='data')\n",
    "circle2 = plt.Circle((xc, yc), radius=r, color='r', fc='y', fill=False)\n",
    "plt.gca().add_patch(circle2)\n",
    "plt.axis('scaled')\n",
    "plt.title(\"Least Squares Method\")\n",
    "plt.show()\n",
    "\n",
    "# Printing the results\n",
    "print(f\"Circle center: ({xc:.3f}, {yc:.3f})\")\n",
    "print(f\"Circle radius: {r:.3f}\")"
   ]
  },
  {
   "attachments": {},
   "cell_type": "markdown",
   "metadata": {},
   "source": [
    "## DBSCAN"
   ]
  },
  {
   "attachments": {},
   "cell_type": "markdown",
   "metadata": {},
   "source": [
    "DBSCAN - Density-Based Spatial Clustering of Applications with Noise. Finds core samples of high density and expands clusters from them. Good for data which contains clusters of similar density."
   ]
  },
  {
   "cell_type": "code",
   "execution_count": 4,
   "metadata": {},
   "outputs": [
    {
     "data": {
      "image/png": "[encoded data removed]",
      "text/plain": [
       "<Figure size 432x288 with 1 Axes>"
      ]
     },
     "metadata": {
      "needs_background": "light"
     },
     "output_type": "display_data"
    }
   ],
   "source": [
    "# Plotting the scan and robot \n",
    "plt.scatter(x,y, marker='o') # blue points for the scanned points\n",
    "# black cross for the robot\n",
    "plt.plot(0, 0, 'k2', markersize=20, label='robot')\n",
    "\n",
    "# Clusterizing the scan\n",
    "dbscan = DBSCAN(eps=0.05, min_samples=5)    # Initialize DBSCAN object with specified hyperparameters\n",
    "dbscan.fit(np.array(scan))                  # Fit the model to the data\n",
    "labels = dbscan.labels_                     # Extract the labels and number of clusters\n",
    "n_clusters = len(set(labels)) - (1 if -1 in labels else 0) # Number of clusters in labels, ignoring noise if present\n",
    "\n",
    "# Extract the center out of each cluster\n",
    "centers = []\n",
    "X = np.array(scan)\n",
    "\n",
    "for i in range(n_clusters):\n",
    "    center = np.mean(X[labels == i], axis=0)\n",
    "    # check if center is in robot's range\n",
    "    if np.sqrt(center[0]**2 + center[1]**2) > robot_min_range:\n",
    "        centers.append(center)\n",
    "        cone_marker = \"y^\"\n",
    "        if center[0] < 0:\n",
    "            cone_marker = \"b^\"\n",
    "        plt.plot(center[0], center[1], cone_marker, alpha=0.4, markersize=20) # Plot the center of each cluster (possible cone)\n",
    "\n",
    "\n",
    "# Sort the centers by distance to the robot\n",
    "centers.sort(key=lambda x: np.sqrt(x[0]**2 + x[1]**2))\n",
    "\n",
    "# Plot the clusters\n",
    "colors = ['r', 'g', 'b', 'c', 'm', 'y', 'k']\n",
    "for i in range(n_clusters):\n",
    "    plt.scatter(X[labels == i, 0], X[labels == i, 1], s=10, c=colors[i], label=f'Cluster {i}')\n",
    "\n",
    "# Plot the noise\n",
    "plt.scatter(X[labels == -1, 0], X[labels == -1, 1], s=10, c='gray', label='Noise')\n",
    "\n",
    "# Plot line between cone pairs\n",
    "for i in range(len(centers)):\n",
    "    for j in range(i+1, len(centers)):\n",
    "        plt.plot([centers[i][0], centers[j][0]], [centers[i][1], centers[j][1]], 'k--', alpha=0.5)\n",
    "\n",
    "# Plot a point at the center of the two nearest cones\n",
    "if len(centers) > 1:\n",
    "    (target_x, target_y) = ((centers[0][0] + centers[1][0])/2, (centers[0][1] + centers[1][1])/2)\n",
    "    target_angle = np.rad2deg(np.arctan(target_x / target_y))\n",
    "    plt.arrow(x=0, y=0, dx=target_x, dy=target_y*0.7, width=.02, facecolor='red', edgecolor='none', alpha=0.2)\n",
    "    plt.plot(target_x, target_y, 'rx', markersize=10, label='target')\n",
    "\n",
    "plt.title('DBSCAN Clustering')\n",
    "plt.legend(bbox_to_anchor=(1.05, 1), loc='upper left', borderaxespad=0., frameon=True)\n",
    "plt.xlabel('x (m)')\n",
    "plt.ylabel('y (m)')\n",
    "plt.axis('scaled')\n",
    "plt.savefig('cone_clustering2.png', dpi=300, bbox_inches='tight')\n",
    "plt.show()"
   ]
  },
  {
   "cell_type": "code",
   "execution_count": 269,
   "metadata": {},
   "outputs": [],
   "source": [
    "def find_target_angle(scan, cluster_th=0.05, min_samples=5) -> float:\n",
    "    \"\"\"\n",
    "    Returns the angle of steering to the midpoint of the two nearest cones.\n",
    "    \"\"\"\n",
    "    # Clusterizing the scan\n",
    "    dbscan = DBSCAN(eps=cluster_th, min_samples=min_samples)    \n",
    "    dbscan.fit(np.array(scan))    # Fit the model to the data\n",
    "    labels = dbscan.labels_       # Extract the labels and number of clusters\n",
    "    n_clusters = len(set(labels)) - (1 if -1 in labels else 0) # Number of clusters in labels, ignoring noise if present\n",
    "\n",
    "    # Extracting the center out of each cluster\n",
    "    centers = []\n",
    "    for i in range(n_clusters):\n",
    "        center = np.mean(X[labels == i], axis=0)\n",
    "        # check if center is in robot's range\n",
    "        if np.sqrt(center[0]**2 + center[1]**2) > robot_min_range:\n",
    "            centers.append(center)\n",
    "\n",
    "    # Sorting the centers by distance to the robot\n",
    "    centers.sort(key=lambda x: np.sqrt(x[0]**2 + x[1]**2))\n",
    "\n",
    "    # Calculating the target position and angle\n",
    "    (target_x, target_y) = ((centers[0][0] + centers[1][0])/2, (centers[0][1] + centers[1][1])/2)\n",
    "    target_angle = np.rad2deg(np.arctan(target_x / target_y))\n",
    "\n",
    "    return target_angle"
   ]
  },
  {
   "cell_type": "code",
   "execution_count": 1,
   "metadata": {},
   "outputs": [
    {
     "ename": "NameError",
     "evalue": "name 'find_target_angle' is not defined",
     "output_type": "error",
     "traceback": [
      "\u001b[0;31m---------------------------------------------------------------------------\u001b[0m",
      "\u001b[0;31mNameError\u001b[0m                                 Traceback (most recent call last)",
      "\u001b[1;32m/home/valigatotus/Documents/github/LiDAR-FSAE/src/simple_2D_perception/circle_fitting.ipynb Cell 14\u001b[0m in \u001b[0;36m<module>\u001b[0;34m\u001b[0m\n\u001b[0;32m----> <a href='vscode-notebook-cell:/home/valigatotus/Documents/github/LiDAR-FSAE/src/simple_2D_perception/circle_fitting.ipynb#X16sZmlsZQ%3D%3D?line=0'>1</a>\u001b[0m find_target_angle(scan)\n",
      "\u001b[0;31mNameError\u001b[0m: name 'find_target_angle' is not defined"
     ]
    }
   ],
   "source": [
    "find_target_angle(scan)"
   ]
  },
  {
   "attachments": {},
   "cell_type": "markdown",
   "metadata": {},
   "source": [
    "# Clustering and circle-fitting combined ?"
   ]
  },
  {
   "cell_type": "code",
   "execution_count": 272,
   "metadata": {},
   "outputs": [],
   "source": [
    "# Combination of DBSCAN and RANSAC "
   ]
  }
 ],
 "metadata": {
  "kernelspec": {
   "display_name": "Python 3",
   "language": "python",
   "name": "python3"
  },
  "language_info": {
   "codemirror_mode": {
    "name": "ipython",
    "version": 3
   },
   "file_extension": ".py",
   "mimetype": "text/x-python",
   "name": "python",
   "nbconvert_exporter": "python",
   "pygments_lexer": "ipython3",
   "version": "3.8.10"
  },
  "orig_nbformat": 4,
  "vscode": {
   "interpreter": {
    "hash": "31f2aee4e71d21fbe5cf8b01ff0e069b9275f58929596ceb00d14d90e3e16cd6"
   }
  }
 },
 "nbformat": 4,
 "nbformat_minor": 2
}
